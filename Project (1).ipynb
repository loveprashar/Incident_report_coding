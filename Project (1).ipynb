{
  "nbformat": 4,
  "nbformat_minor": 0,
  "metadata": {
    "colab": {
      "provenance": []
    },
    "kernelspec": {
      "name": "python3",
      "display_name": "Python 3"
    },
    "language_info": {
      "name": "python"
    }
  },
  "cells": [
    {
      "cell_type": "code",
      "execution_count": 141,
      "metadata": {
        "id": "Vj4R2ru7frz-"
      },
      "outputs": [],
      "source": [
        "#import the pandas to access the functions in the Python\n",
        "import pandas as pd"
      ]
    },
    {
      "cell_type": "code",
      "source": [
        "#This library used to create the visualizations\n",
        "import matplotlib.pyplot as plt"
      ],
      "metadata": {
        "id": "IPkzX9qEf8SE"
      },
      "execution_count": 142,
      "outputs": []
    },
    {
      "cell_type": "code",
      "source": [
        "#Importing the data set incident_event_log\n",
        "data = pd.read_csv(\"incident_event_log.csv\")"
      ],
      "metadata": {
        "id": "MzeSXQScf8eJ"
      },
      "execution_count": 143,
      "outputs": []
    },
    {
      "cell_type": "code",
      "source": [
        "#Head command is used to show the rows and the number inside is for the number of rows to be shown.\n",
        "data.head(5)"
      ],
      "metadata": {
        "id": "PmJcHcUPef_9",
        "colab": {
          "base_uri": "https://localhost:8080/",
          "height": 386
        },
        "outputId": "905b599c-af9e-417a-a8d1-37c6598d538f"
      },
      "execution_count": 144,
      "outputs": [
        {
          "output_type": "execute_result",
          "data": {
            "text/plain": [
              "       number incident_state  active  reassignment_count  reopen_count  \\\n",
              "0  INC0000045            New    True                   0             0   \n",
              "1  INC0000045       Resolved    True                   0             0   \n",
              "2  INC0000045       Resolved    True                   0             0   \n",
              "3  INC0000045         Closed   False                   0             0   \n",
              "4  INC0000047            New    True                   0             0   \n",
              "\n",
              "   sys_mod_count  made_sla    caller_id       opened_by        opened_at  ...  \\\n",
              "0              0      True  Caller 2403    Opened by  8  29/2/2016 01:16  ...   \n",
              "1              2      True  Caller 2403    Opened by  8  29/2/2016 01:16  ...   \n",
              "2              3      True  Caller 2403    Opened by  8  29/2/2016 01:16  ...   \n",
              "3              4      True  Caller 2403    Opened by  8  29/2/2016 01:16  ...   \n",
              "4              0      True  Caller 2403  Opened by  397  29/2/2016 04:40  ...   \n",
              "\n",
              "  u_priority_confirmation         notify problem_id rfc vendor caused_by  \\\n",
              "0                   False  Do Not Notify          ?   ?      ?         ?   \n",
              "1                   False  Do Not Notify          ?   ?      ?         ?   \n",
              "2                   False  Do Not Notify          ?   ?      ?         ?   \n",
              "3                   False  Do Not Notify          ?   ?      ?         ?   \n",
              "4                   False  Do Not Notify          ?   ?      ?         ?   \n",
              "\n",
              "  closed_code      resolved_by      resolved_at       closed_at  \n",
              "0      code 5  Resolved by 149  29/2/2016 11:29  5/3/2016 12:00  \n",
              "1      code 5  Resolved by 149  29/2/2016 11:29  5/3/2016 12:00  \n",
              "2      code 5  Resolved by 149  29/2/2016 11:29  5/3/2016 12:00  \n",
              "3      code 5  Resolved by 149  29/2/2016 11:29  5/3/2016 12:00  \n",
              "4      code 5   Resolved by 81   1/3/2016 09:52  6/3/2016 10:00  \n",
              "\n",
              "[5 rows x 36 columns]"
            ],
            "text/html": [
              "\n",
              "\n",
              "  <div id=\"df-bf03f1b8-024b-4a41-a18f-205a0640800e\">\n",
              "    <div class=\"colab-df-container\">\n",
              "      <div>\n",
              "<style scoped>\n",
              "    .dataframe tbody tr th:only-of-type {\n",
              "        vertical-align: middle;\n",
              "    }\n",
              "\n",
              "    .dataframe tbody tr th {\n",
              "        vertical-align: top;\n",
              "    }\n",
              "\n",
              "    .dataframe thead th {\n",
              "        text-align: right;\n",
              "    }\n",
              "</style>\n",
              "<table border=\"1\" class=\"dataframe\">\n",
              "  <thead>\n",
              "    <tr style=\"text-align: right;\">\n",
              "      <th></th>\n",
              "      <th>number</th>\n",
              "      <th>incident_state</th>\n",
              "      <th>active</th>\n",
              "      <th>reassignment_count</th>\n",
              "      <th>reopen_count</th>\n",
              "      <th>sys_mod_count</th>\n",
              "      <th>made_sla</th>\n",
              "      <th>caller_id</th>\n",
              "      <th>opened_by</th>\n",
              "      <th>opened_at</th>\n",
              "      <th>...</th>\n",
              "      <th>u_priority_confirmation</th>\n",
              "      <th>notify</th>\n",
              "      <th>problem_id</th>\n",
              "      <th>rfc</th>\n",
              "      <th>vendor</th>\n",
              "      <th>caused_by</th>\n",
              "      <th>closed_code</th>\n",
              "      <th>resolved_by</th>\n",
              "      <th>resolved_at</th>\n",
              "      <th>closed_at</th>\n",
              "    </tr>\n",
              "  </thead>\n",
              "  <tbody>\n",
              "    <tr>\n",
              "      <th>0</th>\n",
              "      <td>INC0000045</td>\n",
              "      <td>New</td>\n",
              "      <td>True</td>\n",
              "      <td>0</td>\n",
              "      <td>0</td>\n",
              "      <td>0</td>\n",
              "      <td>True</td>\n",
              "      <td>Caller 2403</td>\n",
              "      <td>Opened by  8</td>\n",
              "      <td>29/2/2016 01:16</td>\n",
              "      <td>...</td>\n",
              "      <td>False</td>\n",
              "      <td>Do Not Notify</td>\n",
              "      <td>?</td>\n",
              "      <td>?</td>\n",
              "      <td>?</td>\n",
              "      <td>?</td>\n",
              "      <td>code 5</td>\n",
              "      <td>Resolved by 149</td>\n",
              "      <td>29/2/2016 11:29</td>\n",
              "      <td>5/3/2016 12:00</td>\n",
              "    </tr>\n",
              "    <tr>\n",
              "      <th>1</th>\n",
              "      <td>INC0000045</td>\n",
              "      <td>Resolved</td>\n",
              "      <td>True</td>\n",
              "      <td>0</td>\n",
              "      <td>0</td>\n",
              "      <td>2</td>\n",
              "      <td>True</td>\n",
              "      <td>Caller 2403</td>\n",
              "      <td>Opened by  8</td>\n",
              "      <td>29/2/2016 01:16</td>\n",
              "      <td>...</td>\n",
              "      <td>False</td>\n",
              "      <td>Do Not Notify</td>\n",
              "      <td>?</td>\n",
              "      <td>?</td>\n",
              "      <td>?</td>\n",
              "      <td>?</td>\n",
              "      <td>code 5</td>\n",
              "      <td>Resolved by 149</td>\n",
              "      <td>29/2/2016 11:29</td>\n",
              "      <td>5/3/2016 12:00</td>\n",
              "    </tr>\n",
              "    <tr>\n",
              "      <th>2</th>\n",
              "      <td>INC0000045</td>\n",
              "      <td>Resolved</td>\n",
              "      <td>True</td>\n",
              "      <td>0</td>\n",
              "      <td>0</td>\n",
              "      <td>3</td>\n",
              "      <td>True</td>\n",
              "      <td>Caller 2403</td>\n",
              "      <td>Opened by  8</td>\n",
              "      <td>29/2/2016 01:16</td>\n",
              "      <td>...</td>\n",
              "      <td>False</td>\n",
              "      <td>Do Not Notify</td>\n",
              "      <td>?</td>\n",
              "      <td>?</td>\n",
              "      <td>?</td>\n",
              "      <td>?</td>\n",
              "      <td>code 5</td>\n",
              "      <td>Resolved by 149</td>\n",
              "      <td>29/2/2016 11:29</td>\n",
              "      <td>5/3/2016 12:00</td>\n",
              "    </tr>\n",
              "    <tr>\n",
              "      <th>3</th>\n",
              "      <td>INC0000045</td>\n",
              "      <td>Closed</td>\n",
              "      <td>False</td>\n",
              "      <td>0</td>\n",
              "      <td>0</td>\n",
              "      <td>4</td>\n",
              "      <td>True</td>\n",
              "      <td>Caller 2403</td>\n",
              "      <td>Opened by  8</td>\n",
              "      <td>29/2/2016 01:16</td>\n",
              "      <td>...</td>\n",
              "      <td>False</td>\n",
              "      <td>Do Not Notify</td>\n",
              "      <td>?</td>\n",
              "      <td>?</td>\n",
              "      <td>?</td>\n",
              "      <td>?</td>\n",
              "      <td>code 5</td>\n",
              "      <td>Resolved by 149</td>\n",
              "      <td>29/2/2016 11:29</td>\n",
              "      <td>5/3/2016 12:00</td>\n",
              "    </tr>\n",
              "    <tr>\n",
              "      <th>4</th>\n",
              "      <td>INC0000047</td>\n",
              "      <td>New</td>\n",
              "      <td>True</td>\n",
              "      <td>0</td>\n",
              "      <td>0</td>\n",
              "      <td>0</td>\n",
              "      <td>True</td>\n",
              "      <td>Caller 2403</td>\n",
              "      <td>Opened by  397</td>\n",
              "      <td>29/2/2016 04:40</td>\n",
              "      <td>...</td>\n",
              "      <td>False</td>\n",
              "      <td>Do Not Notify</td>\n",
              "      <td>?</td>\n",
              "      <td>?</td>\n",
              "      <td>?</td>\n",
              "      <td>?</td>\n",
              "      <td>code 5</td>\n",
              "      <td>Resolved by 81</td>\n",
              "      <td>1/3/2016 09:52</td>\n",
              "      <td>6/3/2016 10:00</td>\n",
              "    </tr>\n",
              "  </tbody>\n",
              "</table>\n",
              "<p>5 rows × 36 columns</p>\n",
              "</div>\n",
              "      <button class=\"colab-df-convert\" onclick=\"convertToInteractive('df-bf03f1b8-024b-4a41-a18f-205a0640800e')\"\n",
              "              title=\"Convert this dataframe to an interactive table.\"\n",
              "              style=\"display:none;\">\n",
              "\n",
              "  <svg xmlns=\"http://www.w3.org/2000/svg\" height=\"24px\"viewBox=\"0 0 24 24\"\n",
              "       width=\"24px\">\n",
              "    <path d=\"M0 0h24v24H0V0z\" fill=\"none\"/>\n",
              "    <path d=\"M18.56 5.44l.94 2.06.94-2.06 2.06-.94-2.06-.94-.94-2.06-.94 2.06-2.06.94zm-11 1L8.5 8.5l.94-2.06 2.06-.94-2.06-.94L8.5 2.5l-.94 2.06-2.06.94zm10 10l.94 2.06.94-2.06 2.06-.94-2.06-.94-.94-2.06-.94 2.06-2.06.94z\"/><path d=\"M17.41 7.96l-1.37-1.37c-.4-.4-.92-.59-1.43-.59-.52 0-1.04.2-1.43.59L10.3 9.45l-7.72 7.72c-.78.78-.78 2.05 0 2.83L4 21.41c.39.39.9.59 1.41.59.51 0 1.02-.2 1.41-.59l7.78-7.78 2.81-2.81c.8-.78.8-2.07 0-2.86zM5.41 20L4 18.59l7.72-7.72 1.47 1.35L5.41 20z\"/>\n",
              "  </svg>\n",
              "      </button>\n",
              "\n",
              "\n",
              "\n",
              "    <div id=\"df-0d4e1c51-2ae5-4405-82a6-30baf6f6c4b1\">\n",
              "      <button class=\"colab-df-quickchart\" onclick=\"quickchart('df-0d4e1c51-2ae5-4405-82a6-30baf6f6c4b1')\"\n",
              "              title=\"Suggest charts.\"\n",
              "              style=\"display:none;\">\n",
              "\n",
              "<svg xmlns=\"http://www.w3.org/2000/svg\" height=\"24px\"viewBox=\"0 0 24 24\"\n",
              "     width=\"24px\">\n",
              "    <g>\n",
              "        <path d=\"M19 3H5c-1.1 0-2 .9-2 2v14c0 1.1.9 2 2 2h14c1.1 0 2-.9 2-2V5c0-1.1-.9-2-2-2zM9 17H7v-7h2v7zm4 0h-2V7h2v10zm4 0h-2v-4h2v4z\"/>\n",
              "    </g>\n",
              "</svg>\n",
              "      </button>\n",
              "    </div>\n",
              "\n",
              "<style>\n",
              "  .colab-df-quickchart {\n",
              "    background-color: #E8F0FE;\n",
              "    border: none;\n",
              "    border-radius: 50%;\n",
              "    cursor: pointer;\n",
              "    display: none;\n",
              "    fill: #1967D2;\n",
              "    height: 32px;\n",
              "    padding: 0 0 0 0;\n",
              "    width: 32px;\n",
              "  }\n",
              "\n",
              "  .colab-df-quickchart:hover {\n",
              "    background-color: #E2EBFA;\n",
              "    box-shadow: 0px 1px 2px rgba(60, 64, 67, 0.3), 0px 1px 3px 1px rgba(60, 64, 67, 0.15);\n",
              "    fill: #174EA6;\n",
              "  }\n",
              "\n",
              "  [theme=dark] .colab-df-quickchart {\n",
              "    background-color: #3B4455;\n",
              "    fill: #D2E3FC;\n",
              "  }\n",
              "\n",
              "  [theme=dark] .colab-df-quickchart:hover {\n",
              "    background-color: #434B5C;\n",
              "    box-shadow: 0px 1px 3px 1px rgba(0, 0, 0, 0.15);\n",
              "    filter: drop-shadow(0px 1px 2px rgba(0, 0, 0, 0.3));\n",
              "    fill: #FFFFFF;\n",
              "  }\n",
              "</style>\n",
              "\n",
              "    <script>\n",
              "      async function quickchart(key) {\n",
              "        const containerElement = document.querySelector('#' + key);\n",
              "        const charts = await google.colab.kernel.invokeFunction(\n",
              "            'suggestCharts', [key], {});\n",
              "      }\n",
              "    </script>\n",
              "\n",
              "      <script>\n",
              "\n",
              "function displayQuickchartButton(domScope) {\n",
              "  let quickchartButtonEl =\n",
              "    domScope.querySelector('#df-0d4e1c51-2ae5-4405-82a6-30baf6f6c4b1 button.colab-df-quickchart');\n",
              "  quickchartButtonEl.style.display =\n",
              "    google.colab.kernel.accessAllowed ? 'block' : 'none';\n",
              "}\n",
              "\n",
              "        displayQuickchartButton(document);\n",
              "      </script>\n",
              "      <style>\n",
              "    .colab-df-container {\n",
              "      display:flex;\n",
              "      flex-wrap:wrap;\n",
              "      gap: 12px;\n",
              "    }\n",
              "\n",
              "    .colab-df-convert {\n",
              "      background-color: #E8F0FE;\n",
              "      border: none;\n",
              "      border-radius: 50%;\n",
              "      cursor: pointer;\n",
              "      display: none;\n",
              "      fill: #1967D2;\n",
              "      height: 32px;\n",
              "      padding: 0 0 0 0;\n",
              "      width: 32px;\n",
              "    }\n",
              "\n",
              "    .colab-df-convert:hover {\n",
              "      background-color: #E2EBFA;\n",
              "      box-shadow: 0px 1px 2px rgba(60, 64, 67, 0.3), 0px 1px 3px 1px rgba(60, 64, 67, 0.15);\n",
              "      fill: #174EA6;\n",
              "    }\n",
              "\n",
              "    [theme=dark] .colab-df-convert {\n",
              "      background-color: #3B4455;\n",
              "      fill: #D2E3FC;\n",
              "    }\n",
              "\n",
              "    [theme=dark] .colab-df-convert:hover {\n",
              "      background-color: #434B5C;\n",
              "      box-shadow: 0px 1px 3px 1px rgba(0, 0, 0, 0.15);\n",
              "      filter: drop-shadow(0px 1px 2px rgba(0, 0, 0, 0.3));\n",
              "      fill: #FFFFFF;\n",
              "    }\n",
              "  </style>\n",
              "\n",
              "      <script>\n",
              "        const buttonEl =\n",
              "          document.querySelector('#df-bf03f1b8-024b-4a41-a18f-205a0640800e button.colab-df-convert');\n",
              "        buttonEl.style.display =\n",
              "          google.colab.kernel.accessAllowed ? 'block' : 'none';\n",
              "\n",
              "        async function convertToInteractive(key) {\n",
              "          const element = document.querySelector('#df-bf03f1b8-024b-4a41-a18f-205a0640800e');\n",
              "          const dataTable =\n",
              "            await google.colab.kernel.invokeFunction('convertToInteractive',\n",
              "                                                     [key], {});\n",
              "          if (!dataTable) return;\n",
              "\n",
              "          const docLinkHtml = 'Like what you see? Visit the ' +\n",
              "            '<a target=\"_blank\" href=https://colab.research.google.com/notebooks/data_table.ipynb>data table notebook</a>'\n",
              "            + ' to learn more about interactive tables.';\n",
              "          element.innerHTML = '';\n",
              "          dataTable['output_type'] = 'display_data';\n",
              "          await google.colab.output.renderOutput(dataTable, element);\n",
              "          const docLink = document.createElement('div');\n",
              "          docLink.innerHTML = docLinkHtml;\n",
              "          element.appendChild(docLink);\n",
              "        }\n",
              "      </script>\n",
              "    </div>\n",
              "  </div>\n"
            ]
          },
          "metadata": {},
          "execution_count": 144
        }
      ]
    },
    {
      "cell_type": "code",
      "source": [
        "#to check the duplicates in the dataset\n",
        "data.duplicated().sum()"
      ],
      "metadata": {
        "colab": {
          "base_uri": "https://localhost:8080/"
        },
        "id": "5UN5NmUOpfJ_",
        "outputId": "69a5035e-8799-4568-9830-3af92b282f92"
      },
      "execution_count": 145,
      "outputs": [
        {
          "output_type": "execute_result",
          "data": {
            "text/plain": [
              "0"
            ]
          },
          "metadata": {},
          "execution_count": 145
        }
      ]
    },
    {
      "cell_type": "code",
      "source": [
        "data['incident_state'].unique()"
      ],
      "metadata": {
        "colab": {
          "base_uri": "https://localhost:8080/"
        },
        "id": "BZmdDtH66RVt",
        "outputId": "fb91ed9e-167e-4730-bc92-ff8a2659b6e2"
      },
      "execution_count": 146,
      "outputs": [
        {
          "output_type": "execute_result",
          "data": {
            "text/plain": [
              "array(['New', 'Resolved', 'Closed', 'Active', 'Awaiting User Info',\n",
              "       'Awaiting Problem', 'Awaiting Vendor', 'Awaiting Evidence', '-100'],\n",
              "      dtype=object)"
            ]
          },
          "metadata": {},
          "execution_count": 146
        }
      ]
    },
    {
      "cell_type": "code",
      "source": [
        "# To know the information of the columns the count and data types\n",
        "data.info()"
      ],
      "metadata": {
        "id": "e66xY5LAihie",
        "colab": {
          "base_uri": "https://localhost:8080/"
        },
        "outputId": "5bb3cc2b-512b-4137-a7c5-ff8c460634a4"
      },
      "execution_count": 147,
      "outputs": [
        {
          "output_type": "stream",
          "name": "stdout",
          "text": [
            "<class 'pandas.core.frame.DataFrame'>\n",
            "RangeIndex: 119998 entries, 0 to 119997\n",
            "Data columns (total 36 columns):\n",
            " #   Column                   Non-Null Count   Dtype \n",
            "---  ------                   --------------   ----- \n",
            " 0   number                   119998 non-null  object\n",
            " 1   incident_state           119998 non-null  object\n",
            " 2   active                   119998 non-null  bool  \n",
            " 3   reassignment_count       119998 non-null  int64 \n",
            " 4   reopen_count             119998 non-null  int64 \n",
            " 5   sys_mod_count            119998 non-null  int64 \n",
            " 6   made_sla                 119998 non-null  bool  \n",
            " 7   caller_id                119998 non-null  object\n",
            " 8   opened_by                119998 non-null  object\n",
            " 9   opened_at                119998 non-null  object\n",
            " 10  sys_created_by           119998 non-null  object\n",
            " 11  sys_created_at           119998 non-null  object\n",
            " 12  sys_updated_by           119998 non-null  object\n",
            " 13  sys_updated_at           119998 non-null  object\n",
            " 14  contact_type             119998 non-null  object\n",
            " 15  location                 119998 non-null  object\n",
            " 16  category                 119998 non-null  object\n",
            " 17  subcategory              119998 non-null  object\n",
            " 18  u_symptom                119998 non-null  object\n",
            " 19  cmdb_ci                  119998 non-null  object\n",
            " 20  impact                   119998 non-null  object\n",
            " 21  urgency                  119998 non-null  object\n",
            " 22  priority                 119998 non-null  object\n",
            " 23  assignment_group         119998 non-null  object\n",
            " 24  assigned_to              119998 non-null  object\n",
            " 25  knowledge                119998 non-null  bool  \n",
            " 26  u_priority_confirmation  119998 non-null  bool  \n",
            " 27  notify                   119998 non-null  object\n",
            " 28  problem_id               119998 non-null  object\n",
            " 29  rfc                      119998 non-null  object\n",
            " 30  vendor                   119998 non-null  object\n",
            " 31  caused_by                119998 non-null  object\n",
            " 32  closed_code              119998 non-null  object\n",
            " 33  resolved_by              119998 non-null  object\n",
            " 34  resolved_at              119998 non-null  object\n",
            " 35  closed_at                119998 non-null  object\n",
            "dtypes: bool(4), int64(3), object(29)\n",
            "memory usage: 29.8+ MB\n"
          ]
        }
      ]
    },
    {
      "cell_type": "code",
      "source": [
        "#Shape command is used to know the count of columns and rows\n",
        "data.shape"
      ],
      "metadata": {
        "colab": {
          "base_uri": "https://localhost:8080/"
        },
        "id": "bVB0r-VOV62P",
        "outputId": "3ca6eba5-241c-4bab-925b-b43debe110cf"
      },
      "execution_count": 148,
      "outputs": [
        {
          "output_type": "execute_result",
          "data": {
            "text/plain": [
              "(119998, 36)"
            ]
          },
          "metadata": {},
          "execution_count": 148
        }
      ]
    },
    {
      "cell_type": "code",
      "source": [
        "#columns is used to know the names of columns\n",
        "data.columns"
      ],
      "metadata": {
        "colab": {
          "base_uri": "https://localhost:8080/"
        },
        "id": "AdWqwQUZdubh",
        "outputId": "c0c49cfe-74aa-4df9-ee08-592cf1bc169a"
      },
      "execution_count": 149,
      "outputs": [
        {
          "output_type": "execute_result",
          "data": {
            "text/plain": [
              "Index(['number', 'incident_state', 'active', 'reassignment_count',\n",
              "       'reopen_count', 'sys_mod_count', 'made_sla', 'caller_id', 'opened_by',\n",
              "       'opened_at', 'sys_created_by', 'sys_created_at', 'sys_updated_by',\n",
              "       'sys_updated_at', 'contact_type', 'location', 'category', 'subcategory',\n",
              "       'u_symptom', 'cmdb_ci', 'impact', 'urgency', 'priority',\n",
              "       'assignment_group', 'assigned_to', 'knowledge',\n",
              "       'u_priority_confirmation', 'notify', 'problem_id', 'rfc', 'vendor',\n",
              "       'caused_by', 'closed_code', 'resolved_by', 'resolved_at', 'closed_at'],\n",
              "      dtype='object')"
            ]
          },
          "metadata": {},
          "execution_count": 149
        }
      ]
    },
    {
      "cell_type": "code",
      "source": [
        "#checking the data types of the attributes\n",
        "data.dtypes"
      ],
      "metadata": {
        "colab": {
          "base_uri": "https://localhost:8080/"
        },
        "id": "j3VwCaeZdueM",
        "outputId": "b7aa3778-71a3-4351-a706-269514d25339"
      },
      "execution_count": 150,
      "outputs": [
        {
          "output_type": "execute_result",
          "data": {
            "text/plain": [
              "number                     object\n",
              "incident_state             object\n",
              "active                       bool\n",
              "reassignment_count          int64\n",
              "reopen_count                int64\n",
              "sys_mod_count               int64\n",
              "made_sla                     bool\n",
              "caller_id                  object\n",
              "opened_by                  object\n",
              "opened_at                  object\n",
              "sys_created_by             object\n",
              "sys_created_at             object\n",
              "sys_updated_by             object\n",
              "sys_updated_at             object\n",
              "contact_type               object\n",
              "location                   object\n",
              "category                   object\n",
              "subcategory                object\n",
              "u_symptom                  object\n",
              "cmdb_ci                    object\n",
              "impact                     object\n",
              "urgency                    object\n",
              "priority                   object\n",
              "assignment_group           object\n",
              "assigned_to                object\n",
              "knowledge                    bool\n",
              "u_priority_confirmation      bool\n",
              "notify                     object\n",
              "problem_id                 object\n",
              "rfc                        object\n",
              "vendor                     object\n",
              "caused_by                  object\n",
              "closed_code                object\n",
              "resolved_by                object\n",
              "resolved_at                object\n",
              "closed_at                  object\n",
              "dtype: object"
            ]
          },
          "metadata": {},
          "execution_count": 150
        }
      ]
    },
    {
      "cell_type": "code",
      "source": [
        "# To know the 5 number numeric summery\n",
        "data.describe().T"
      ],
      "metadata": {
        "colab": {
          "base_uri": "https://localhost:8080/",
          "height": 143
        },
        "id": "vl5jFmx6dugS",
        "outputId": "cae9bfb2-2a25-4bcd-c242-35e08beb4c04"
      },
      "execution_count": 151,
      "outputs": [
        {
          "output_type": "execute_result",
          "data": {
            "text/plain": [
              "                       count      mean       std  min  25%  50%  75%    max\n",
              "reassignment_count  119998.0  1.151236  1.782823  0.0  0.0  1.0  2.0   27.0\n",
              "reopen_count        119998.0  0.021025  0.196173  0.0  0.0  0.0  0.0    8.0\n",
              "sys_mod_count       119998.0  5.199312  7.804628  0.0  1.0  3.0  7.0  129.0"
            ],
            "text/html": [
              "\n",
              "\n",
              "  <div id=\"df-57380e42-7e49-4e61-b5ab-9a57ecadc9bf\">\n",
              "    <div class=\"colab-df-container\">\n",
              "      <div>\n",
              "<style scoped>\n",
              "    .dataframe tbody tr th:only-of-type {\n",
              "        vertical-align: middle;\n",
              "    }\n",
              "\n",
              "    .dataframe tbody tr th {\n",
              "        vertical-align: top;\n",
              "    }\n",
              "\n",
              "    .dataframe thead th {\n",
              "        text-align: right;\n",
              "    }\n",
              "</style>\n",
              "<table border=\"1\" class=\"dataframe\">\n",
              "  <thead>\n",
              "    <tr style=\"text-align: right;\">\n",
              "      <th></th>\n",
              "      <th>count</th>\n",
              "      <th>mean</th>\n",
              "      <th>std</th>\n",
              "      <th>min</th>\n",
              "      <th>25%</th>\n",
              "      <th>50%</th>\n",
              "      <th>75%</th>\n",
              "      <th>max</th>\n",
              "    </tr>\n",
              "  </thead>\n",
              "  <tbody>\n",
              "    <tr>\n",
              "      <th>reassignment_count</th>\n",
              "      <td>119998.0</td>\n",
              "      <td>1.151236</td>\n",
              "      <td>1.782823</td>\n",
              "      <td>0.0</td>\n",
              "      <td>0.0</td>\n",
              "      <td>1.0</td>\n",
              "      <td>2.0</td>\n",
              "      <td>27.0</td>\n",
              "    </tr>\n",
              "    <tr>\n",
              "      <th>reopen_count</th>\n",
              "      <td>119998.0</td>\n",
              "      <td>0.021025</td>\n",
              "      <td>0.196173</td>\n",
              "      <td>0.0</td>\n",
              "      <td>0.0</td>\n",
              "      <td>0.0</td>\n",
              "      <td>0.0</td>\n",
              "      <td>8.0</td>\n",
              "    </tr>\n",
              "    <tr>\n",
              "      <th>sys_mod_count</th>\n",
              "      <td>119998.0</td>\n",
              "      <td>5.199312</td>\n",
              "      <td>7.804628</td>\n",
              "      <td>0.0</td>\n",
              "      <td>1.0</td>\n",
              "      <td>3.0</td>\n",
              "      <td>7.0</td>\n",
              "      <td>129.0</td>\n",
              "    </tr>\n",
              "  </tbody>\n",
              "</table>\n",
              "</div>\n",
              "      <button class=\"colab-df-convert\" onclick=\"convertToInteractive('df-57380e42-7e49-4e61-b5ab-9a57ecadc9bf')\"\n",
              "              title=\"Convert this dataframe to an interactive table.\"\n",
              "              style=\"display:none;\">\n",
              "\n",
              "  <svg xmlns=\"http://www.w3.org/2000/svg\" height=\"24px\"viewBox=\"0 0 24 24\"\n",
              "       width=\"24px\">\n",
              "    <path d=\"M0 0h24v24H0V0z\" fill=\"none\"/>\n",
              "    <path d=\"M18.56 5.44l.94 2.06.94-2.06 2.06-.94-2.06-.94-.94-2.06-.94 2.06-2.06.94zm-11 1L8.5 8.5l.94-2.06 2.06-.94-2.06-.94L8.5 2.5l-.94 2.06-2.06.94zm10 10l.94 2.06.94-2.06 2.06-.94-2.06-.94-.94-2.06-.94 2.06-2.06.94z\"/><path d=\"M17.41 7.96l-1.37-1.37c-.4-.4-.92-.59-1.43-.59-.52 0-1.04.2-1.43.59L10.3 9.45l-7.72 7.72c-.78.78-.78 2.05 0 2.83L4 21.41c.39.39.9.59 1.41.59.51 0 1.02-.2 1.41-.59l7.78-7.78 2.81-2.81c.8-.78.8-2.07 0-2.86zM5.41 20L4 18.59l7.72-7.72 1.47 1.35L5.41 20z\"/>\n",
              "  </svg>\n",
              "      </button>\n",
              "\n",
              "\n",
              "\n",
              "    <div id=\"df-b7bed0e1-1ad2-4521-b27f-024fcca0f83d\">\n",
              "      <button class=\"colab-df-quickchart\" onclick=\"quickchart('df-b7bed0e1-1ad2-4521-b27f-024fcca0f83d')\"\n",
              "              title=\"Suggest charts.\"\n",
              "              style=\"display:none;\">\n",
              "\n",
              "<svg xmlns=\"http://www.w3.org/2000/svg\" height=\"24px\"viewBox=\"0 0 24 24\"\n",
              "     width=\"24px\">\n",
              "    <g>\n",
              "        <path d=\"M19 3H5c-1.1 0-2 .9-2 2v14c0 1.1.9 2 2 2h14c1.1 0 2-.9 2-2V5c0-1.1-.9-2-2-2zM9 17H7v-7h2v7zm4 0h-2V7h2v10zm4 0h-2v-4h2v4z\"/>\n",
              "    </g>\n",
              "</svg>\n",
              "      </button>\n",
              "    </div>\n",
              "\n",
              "<style>\n",
              "  .colab-df-quickchart {\n",
              "    background-color: #E8F0FE;\n",
              "    border: none;\n",
              "    border-radius: 50%;\n",
              "    cursor: pointer;\n",
              "    display: none;\n",
              "    fill: #1967D2;\n",
              "    height: 32px;\n",
              "    padding: 0 0 0 0;\n",
              "    width: 32px;\n",
              "  }\n",
              "\n",
              "  .colab-df-quickchart:hover {\n",
              "    background-color: #E2EBFA;\n",
              "    box-shadow: 0px 1px 2px rgba(60, 64, 67, 0.3), 0px 1px 3px 1px rgba(60, 64, 67, 0.15);\n",
              "    fill: #174EA6;\n",
              "  }\n",
              "\n",
              "  [theme=dark] .colab-df-quickchart {\n",
              "    background-color: #3B4455;\n",
              "    fill: #D2E3FC;\n",
              "  }\n",
              "\n",
              "  [theme=dark] .colab-df-quickchart:hover {\n",
              "    background-color: #434B5C;\n",
              "    box-shadow: 0px 1px 3px 1px rgba(0, 0, 0, 0.15);\n",
              "    filter: drop-shadow(0px 1px 2px rgba(0, 0, 0, 0.3));\n",
              "    fill: #FFFFFF;\n",
              "  }\n",
              "</style>\n",
              "\n",
              "    <script>\n",
              "      async function quickchart(key) {\n",
              "        const containerElement = document.querySelector('#' + key);\n",
              "        const charts = await google.colab.kernel.invokeFunction(\n",
              "            'suggestCharts', [key], {});\n",
              "      }\n",
              "    </script>\n",
              "\n",
              "      <script>\n",
              "\n",
              "function displayQuickchartButton(domScope) {\n",
              "  let quickchartButtonEl =\n",
              "    domScope.querySelector('#df-b7bed0e1-1ad2-4521-b27f-024fcca0f83d button.colab-df-quickchart');\n",
              "  quickchartButtonEl.style.display =\n",
              "    google.colab.kernel.accessAllowed ? 'block' : 'none';\n",
              "}\n",
              "\n",
              "        displayQuickchartButton(document);\n",
              "      </script>\n",
              "      <style>\n",
              "    .colab-df-container {\n",
              "      display:flex;\n",
              "      flex-wrap:wrap;\n",
              "      gap: 12px;\n",
              "    }\n",
              "\n",
              "    .colab-df-convert {\n",
              "      background-color: #E8F0FE;\n",
              "      border: none;\n",
              "      border-radius: 50%;\n",
              "      cursor: pointer;\n",
              "      display: none;\n",
              "      fill: #1967D2;\n",
              "      height: 32px;\n",
              "      padding: 0 0 0 0;\n",
              "      width: 32px;\n",
              "    }\n",
              "\n",
              "    .colab-df-convert:hover {\n",
              "      background-color: #E2EBFA;\n",
              "      box-shadow: 0px 1px 2px rgba(60, 64, 67, 0.3), 0px 1px 3px 1px rgba(60, 64, 67, 0.15);\n",
              "      fill: #174EA6;\n",
              "    }\n",
              "\n",
              "    [theme=dark] .colab-df-convert {\n",
              "      background-color: #3B4455;\n",
              "      fill: #D2E3FC;\n",
              "    }\n",
              "\n",
              "    [theme=dark] .colab-df-convert:hover {\n",
              "      background-color: #434B5C;\n",
              "      box-shadow: 0px 1px 3px 1px rgba(0, 0, 0, 0.15);\n",
              "      filter: drop-shadow(0px 1px 2px rgba(0, 0, 0, 0.3));\n",
              "      fill: #FFFFFF;\n",
              "    }\n",
              "  </style>\n",
              "\n",
              "      <script>\n",
              "        const buttonEl =\n",
              "          document.querySelector('#df-57380e42-7e49-4e61-b5ab-9a57ecadc9bf button.colab-df-convert');\n",
              "        buttonEl.style.display =\n",
              "          google.colab.kernel.accessAllowed ? 'block' : 'none';\n",
              "\n",
              "        async function convertToInteractive(key) {\n",
              "          const element = document.querySelector('#df-57380e42-7e49-4e61-b5ab-9a57ecadc9bf');\n",
              "          const dataTable =\n",
              "            await google.colab.kernel.invokeFunction('convertToInteractive',\n",
              "                                                     [key], {});\n",
              "          if (!dataTable) return;\n",
              "\n",
              "          const docLinkHtml = 'Like what you see? Visit the ' +\n",
              "            '<a target=\"_blank\" href=https://colab.research.google.com/notebooks/data_table.ipynb>data table notebook</a>'\n",
              "            + ' to learn more about interactive tables.';\n",
              "          element.innerHTML = '';\n",
              "          dataTable['output_type'] = 'display_data';\n",
              "          await google.colab.output.renderOutput(dataTable, element);\n",
              "          const docLink = document.createElement('div');\n",
              "          docLink.innerHTML = docLinkHtml;\n",
              "          element.appendChild(docLink);\n",
              "        }\n",
              "      </script>\n",
              "    </div>\n",
              "  </div>\n"
            ]
          },
          "metadata": {},
          "execution_count": 151
        }
      ]
    },
    {
      "cell_type": "code",
      "source": [
        "data.isnull().sum()"
      ],
      "metadata": {
        "colab": {
          "base_uri": "https://localhost:8080/"
        },
        "id": "Klvju-Oly51o",
        "outputId": "2266f5ea-7ae0-4f0a-d007-a8af3cd4d221"
      },
      "execution_count": 152,
      "outputs": [
        {
          "output_type": "execute_result",
          "data": {
            "text/plain": [
              "number                     0\n",
              "incident_state             0\n",
              "active                     0\n",
              "reassignment_count         0\n",
              "reopen_count               0\n",
              "sys_mod_count              0\n",
              "made_sla                   0\n",
              "caller_id                  0\n",
              "opened_by                  0\n",
              "opened_at                  0\n",
              "sys_created_by             0\n",
              "sys_created_at             0\n",
              "sys_updated_by             0\n",
              "sys_updated_at             0\n",
              "contact_type               0\n",
              "location                   0\n",
              "category                   0\n",
              "subcategory                0\n",
              "u_symptom                  0\n",
              "cmdb_ci                    0\n",
              "impact                     0\n",
              "urgency                    0\n",
              "priority                   0\n",
              "assignment_group           0\n",
              "assigned_to                0\n",
              "knowledge                  0\n",
              "u_priority_confirmation    0\n",
              "notify                     0\n",
              "problem_id                 0\n",
              "rfc                        0\n",
              "vendor                     0\n",
              "caused_by                  0\n",
              "closed_code                0\n",
              "resolved_by                0\n",
              "resolved_at                0\n",
              "closed_at                  0\n",
              "dtype: int64"
            ]
          },
          "metadata": {},
          "execution_count": 152
        }
      ]
    },
    {
      "cell_type": "code",
      "source": [
        "#filling the null values in reloved at with in date time and in sys_created_at with max\n",
        "data['resolved_at'].fillna(data['resolved_at'].min(), inplace=True)"
      ],
      "metadata": {
        "id": "wR1HfqBzyZfK"
      },
      "execution_count": 153,
      "outputs": []
    },
    {
      "cell_type": "code",
      "source": [
        "#checking the sum of null values\n",
        "data.isnull().sum().sum()"
      ],
      "metadata": {
        "colab": {
          "base_uri": "https://localhost:8080/"
        },
        "id": "sDGcXrKhy8Md",
        "outputId": "c2a5f0e2-c418-4d61-9014-d77037d710c4"
      },
      "execution_count": 154,
      "outputs": [
        {
          "output_type": "execute_result",
          "data": {
            "text/plain": [
              "0"
            ]
          },
          "metadata": {},
          "execution_count": 154
        }
      ]
    },
    {
      "cell_type": "code",
      "source": [
        "#converting all the attributes in date fornat to DateTime and replacing the ? with NaT\n",
        "data['opened_at'] = pd.to_datetime(data['opened_at'])\n",
        "data['closed_at'] = pd.to_datetime(data['closed_at'])\n",
        "data['resolved_at'].replace('?', pd.NaT, inplace=True)\n",
        "data['resolved_at'] = pd.to_datetime(data['resolved_at'])\n"
      ],
      "metadata": {
        "id": "L6yB-_Cxdui_"
      },
      "execution_count": 155,
      "outputs": []
    },
    {
      "cell_type": "code",
      "source": [
        "#Making a new Attribute Issue where incident state if resolved and closed is \"Solved\" else \"Not Solved\"\n",
        "data['Issue'] = data['incident_state'].apply(lambda x: 'Solved' if x in ['Resolved', 'Closed'] else 'Not Solved')"
      ],
      "metadata": {
        "id": "Jl6H_cnKdunr"
      },
      "execution_count": 156,
      "outputs": []
    },
    {
      "cell_type": "code",
      "source": [
        "data['days_to_close'] = (data['closed_at'] - data['opened_at']).dt.days\n",
        "# Use a lambda function to set 'days_to_solve' to 0 where the 'Issue' is not 'Solved'\n",
        "data['days_to_close'] = data.apply(lambda row: 0 if row['Issue'] != 'Solved' else row['days_to_close'], axis=1)\n"
      ],
      "metadata": {
        "id": "0wKujGaWvPga"
      },
      "execution_count": 157,
      "outputs": []
    },
    {
      "cell_type": "code",
      "source": [
        "data['number'] = data['number'].str.extract(r'(\\d+)').astype(float)\n",
        "#Converting all the categorical data to category\n",
        "data['incident_state'] = data['incident_state'].astype('category')\n",
        "data['active']=data['active'].astype('category')\n",
        "data['reassignment_count'] = data['reassignment_count'].astype(int)\n",
        "data['reopen_count'] = data['reopen_count'].astype(int)\n",
        "data['sys_mod_count'] = data['sys_mod_count'].astype(int)\n",
        "data['made_sla'] = data['made_sla'].astype('category')\n",
        "data['knowledge'] = data['knowledge'].astype('category')\n",
        "\n",
        "data['notify'] = data['notify'].astype('category')\n",
        "data['contact_type'] = data['contact_type'].astype('category')\n",
        "data['impact'] = data['impact'].astype('category')\n",
        "data['urgency'] = data['urgency'].astype('category')\n",
        "data['priority'] = data['priority'].astype('category')\n",
        "data[\"closed_code\"] = data[\"closed_code\"].astype('category')\n",
        "data[\"Issue\"] = data[\"Issue\"].astype('category')"
      ],
      "metadata": {
        "id": "-vU5caMSwiwW"
      },
      "execution_count": 158,
      "outputs": []
    },
    {
      "cell_type": "code",
      "source": [
        "data.head(10)"
      ],
      "metadata": {
        "colab": {
          "base_uri": "https://localhost:8080/",
          "height": 804
        },
        "id": "uxc_hpoAvReN",
        "outputId": "8f2ecbbf-8bc5-4b0d-95cc-e9d1a9853371"
      },
      "execution_count": 159,
      "outputs": [
        {
          "output_type": "execute_result",
          "data": {
            "text/plain": [
              "   number incident_state active  reassignment_count  reopen_count  \\\n",
              "0    45.0            New   True                   0             0   \n",
              "1    45.0       Resolved   True                   0             0   \n",
              "2    45.0       Resolved   True                   0             0   \n",
              "3    45.0         Closed  False                   0             0   \n",
              "4    47.0            New   True                   0             0   \n",
              "5    47.0         Active   True                   1             0   \n",
              "6    47.0         Active   True                   1             0   \n",
              "7    47.0         Active   True                   1             0   \n",
              "8    47.0         Active   True                   1             0   \n",
              "9    47.0         Active   True                   1             0   \n",
              "\n",
              "   sys_mod_count made_sla    caller_id       opened_by           opened_at  \\\n",
              "0              0     True  Caller 2403    Opened by  8 2016-02-29 01:16:00   \n",
              "1              2     True  Caller 2403    Opened by  8 2016-02-29 01:16:00   \n",
              "2              3     True  Caller 2403    Opened by  8 2016-02-29 01:16:00   \n",
              "3              4     True  Caller 2403    Opened by  8 2016-02-29 01:16:00   \n",
              "4              0     True  Caller 2403  Opened by  397 2016-02-29 04:40:00   \n",
              "5              1     True  Caller 2403  Opened by  397 2016-02-29 04:40:00   \n",
              "6              2     True  Caller 2403  Opened by  397 2016-02-29 04:40:00   \n",
              "7              3     True  Caller 2403  Opened by  397 2016-02-29 04:40:00   \n",
              "8              4     True  Caller 2403  Opened by  397 2016-02-29 04:40:00   \n",
              "9              5     True  Caller 2403  Opened by  397 2016-02-29 04:40:00   \n",
              "\n",
              "   ... problem_id rfc vendor caused_by closed_code      resolved_by  \\\n",
              "0  ...          ?   ?      ?         ?      code 5  Resolved by 149   \n",
              "1  ...          ?   ?      ?         ?      code 5  Resolved by 149   \n",
              "2  ...          ?   ?      ?         ?      code 5  Resolved by 149   \n",
              "3  ...          ?   ?      ?         ?      code 5  Resolved by 149   \n",
              "4  ...          ?   ?      ?         ?      code 5   Resolved by 81   \n",
              "5  ...          ?   ?      ?         ?      code 5   Resolved by 81   \n",
              "6  ...          ?   ?      ?         ?      code 5   Resolved by 81   \n",
              "7  ...          ?   ?      ?         ?      code 5   Resolved by 81   \n",
              "8  ...          ?   ?      ?         ?      code 5   Resolved by 81   \n",
              "9  ...          ?   ?      ?         ?      code 5   Resolved by 81   \n",
              "\n",
              "          resolved_at           closed_at       Issue days_to_close  \n",
              "0 2016-02-29 11:29:00 2016-05-03 12:00:00  Not Solved             0  \n",
              "1 2016-02-29 11:29:00 2016-05-03 12:00:00      Solved            64  \n",
              "2 2016-02-29 11:29:00 2016-05-03 12:00:00      Solved            64  \n",
              "3 2016-02-29 11:29:00 2016-05-03 12:00:00      Solved            64  \n",
              "4 2016-01-03 09:52:00 2016-06-03 10:00:00  Not Solved             0  \n",
              "5 2016-01-03 09:52:00 2016-06-03 10:00:00  Not Solved             0  \n",
              "6 2016-01-03 09:52:00 2016-06-03 10:00:00  Not Solved             0  \n",
              "7 2016-01-03 09:52:00 2016-06-03 10:00:00  Not Solved             0  \n",
              "8 2016-01-03 09:52:00 2016-06-03 10:00:00  Not Solved             0  \n",
              "9 2016-01-03 09:52:00 2016-06-03 10:00:00  Not Solved             0  \n",
              "\n",
              "[10 rows x 38 columns]"
            ],
            "text/html": [
              "\n",
              "\n",
              "  <div id=\"df-d203b08d-6704-458c-9a31-6cacd2ad8a16\">\n",
              "    <div class=\"colab-df-container\">\n",
              "      <div>\n",
              "<style scoped>\n",
              "    .dataframe tbody tr th:only-of-type {\n",
              "        vertical-align: middle;\n",
              "    }\n",
              "\n",
              "    .dataframe tbody tr th {\n",
              "        vertical-align: top;\n",
              "    }\n",
              "\n",
              "    .dataframe thead th {\n",
              "        text-align: right;\n",
              "    }\n",
              "</style>\n",
              "<table border=\"1\" class=\"dataframe\">\n",
              "  <thead>\n",
              "    <tr style=\"text-align: right;\">\n",
              "      <th></th>\n",
              "      <th>number</th>\n",
              "      <th>incident_state</th>\n",
              "      <th>active</th>\n",
              "      <th>reassignment_count</th>\n",
              "      <th>reopen_count</th>\n",
              "      <th>sys_mod_count</th>\n",
              "      <th>made_sla</th>\n",
              "      <th>caller_id</th>\n",
              "      <th>opened_by</th>\n",
              "      <th>opened_at</th>\n",
              "      <th>...</th>\n",
              "      <th>problem_id</th>\n",
              "      <th>rfc</th>\n",
              "      <th>vendor</th>\n",
              "      <th>caused_by</th>\n",
              "      <th>closed_code</th>\n",
              "      <th>resolved_by</th>\n",
              "      <th>resolved_at</th>\n",
              "      <th>closed_at</th>\n",
              "      <th>Issue</th>\n",
              "      <th>days_to_close</th>\n",
              "    </tr>\n",
              "  </thead>\n",
              "  <tbody>\n",
              "    <tr>\n",
              "      <th>0</th>\n",
              "      <td>45.0</td>\n",
              "      <td>New</td>\n",
              "      <td>True</td>\n",
              "      <td>0</td>\n",
              "      <td>0</td>\n",
              "      <td>0</td>\n",
              "      <td>True</td>\n",
              "      <td>Caller 2403</td>\n",
              "      <td>Opened by  8</td>\n",
              "      <td>2016-02-29 01:16:00</td>\n",
              "      <td>...</td>\n",
              "      <td>?</td>\n",
              "      <td>?</td>\n",
              "      <td>?</td>\n",
              "      <td>?</td>\n",
              "      <td>code 5</td>\n",
              "      <td>Resolved by 149</td>\n",
              "      <td>2016-02-29 11:29:00</td>\n",
              "      <td>2016-05-03 12:00:00</td>\n",
              "      <td>Not Solved</td>\n",
              "      <td>0</td>\n",
              "    </tr>\n",
              "    <tr>\n",
              "      <th>1</th>\n",
              "      <td>45.0</td>\n",
              "      <td>Resolved</td>\n",
              "      <td>True</td>\n",
              "      <td>0</td>\n",
              "      <td>0</td>\n",
              "      <td>2</td>\n",
              "      <td>True</td>\n",
              "      <td>Caller 2403</td>\n",
              "      <td>Opened by  8</td>\n",
              "      <td>2016-02-29 01:16:00</td>\n",
              "      <td>...</td>\n",
              "      <td>?</td>\n",
              "      <td>?</td>\n",
              "      <td>?</td>\n",
              "      <td>?</td>\n",
              "      <td>code 5</td>\n",
              "      <td>Resolved by 149</td>\n",
              "      <td>2016-02-29 11:29:00</td>\n",
              "      <td>2016-05-03 12:00:00</td>\n",
              "      <td>Solved</td>\n",
              "      <td>64</td>\n",
              "    </tr>\n",
              "    <tr>\n",
              "      <th>2</th>\n",
              "      <td>45.0</td>\n",
              "      <td>Resolved</td>\n",
              "      <td>True</td>\n",
              "      <td>0</td>\n",
              "      <td>0</td>\n",
              "      <td>3</td>\n",
              "      <td>True</td>\n",
              "      <td>Caller 2403</td>\n",
              "      <td>Opened by  8</td>\n",
              "      <td>2016-02-29 01:16:00</td>\n",
              "      <td>...</td>\n",
              "      <td>?</td>\n",
              "      <td>?</td>\n",
              "      <td>?</td>\n",
              "      <td>?</td>\n",
              "      <td>code 5</td>\n",
              "      <td>Resolved by 149</td>\n",
              "      <td>2016-02-29 11:29:00</td>\n",
              "      <td>2016-05-03 12:00:00</td>\n",
              "      <td>Solved</td>\n",
              "      <td>64</td>\n",
              "    </tr>\n",
              "    <tr>\n",
              "      <th>3</th>\n",
              "      <td>45.0</td>\n",
              "      <td>Closed</td>\n",
              "      <td>False</td>\n",
              "      <td>0</td>\n",
              "      <td>0</td>\n",
              "      <td>4</td>\n",
              "      <td>True</td>\n",
              "      <td>Caller 2403</td>\n",
              "      <td>Opened by  8</td>\n",
              "      <td>2016-02-29 01:16:00</td>\n",
              "      <td>...</td>\n",
              "      <td>?</td>\n",
              "      <td>?</td>\n",
              "      <td>?</td>\n",
              "      <td>?</td>\n",
              "      <td>code 5</td>\n",
              "      <td>Resolved by 149</td>\n",
              "      <td>2016-02-29 11:29:00</td>\n",
              "      <td>2016-05-03 12:00:00</td>\n",
              "      <td>Solved</td>\n",
              "      <td>64</td>\n",
              "    </tr>\n",
              "    <tr>\n",
              "      <th>4</th>\n",
              "      <td>47.0</td>\n",
              "      <td>New</td>\n",
              "      <td>True</td>\n",
              "      <td>0</td>\n",
              "      <td>0</td>\n",
              "      <td>0</td>\n",
              "      <td>True</td>\n",
              "      <td>Caller 2403</td>\n",
              "      <td>Opened by  397</td>\n",
              "      <td>2016-02-29 04:40:00</td>\n",
              "      <td>...</td>\n",
              "      <td>?</td>\n",
              "      <td>?</td>\n",
              "      <td>?</td>\n",
              "      <td>?</td>\n",
              "      <td>code 5</td>\n",
              "      <td>Resolved by 81</td>\n",
              "      <td>2016-01-03 09:52:00</td>\n",
              "      <td>2016-06-03 10:00:00</td>\n",
              "      <td>Not Solved</td>\n",
              "      <td>0</td>\n",
              "    </tr>\n",
              "    <tr>\n",
              "      <th>5</th>\n",
              "      <td>47.0</td>\n",
              "      <td>Active</td>\n",
              "      <td>True</td>\n",
              "      <td>1</td>\n",
              "      <td>0</td>\n",
              "      <td>1</td>\n",
              "      <td>True</td>\n",
              "      <td>Caller 2403</td>\n",
              "      <td>Opened by  397</td>\n",
              "      <td>2016-02-29 04:40:00</td>\n",
              "      <td>...</td>\n",
              "      <td>?</td>\n",
              "      <td>?</td>\n",
              "      <td>?</td>\n",
              "      <td>?</td>\n",
              "      <td>code 5</td>\n",
              "      <td>Resolved by 81</td>\n",
              "      <td>2016-01-03 09:52:00</td>\n",
              "      <td>2016-06-03 10:00:00</td>\n",
              "      <td>Not Solved</td>\n",
              "      <td>0</td>\n",
              "    </tr>\n",
              "    <tr>\n",
              "      <th>6</th>\n",
              "      <td>47.0</td>\n",
              "      <td>Active</td>\n",
              "      <td>True</td>\n",
              "      <td>1</td>\n",
              "      <td>0</td>\n",
              "      <td>2</td>\n",
              "      <td>True</td>\n",
              "      <td>Caller 2403</td>\n",
              "      <td>Opened by  397</td>\n",
              "      <td>2016-02-29 04:40:00</td>\n",
              "      <td>...</td>\n",
              "      <td>?</td>\n",
              "      <td>?</td>\n",
              "      <td>?</td>\n",
              "      <td>?</td>\n",
              "      <td>code 5</td>\n",
              "      <td>Resolved by 81</td>\n",
              "      <td>2016-01-03 09:52:00</td>\n",
              "      <td>2016-06-03 10:00:00</td>\n",
              "      <td>Not Solved</td>\n",
              "      <td>0</td>\n",
              "    </tr>\n",
              "    <tr>\n",
              "      <th>7</th>\n",
              "      <td>47.0</td>\n",
              "      <td>Active</td>\n",
              "      <td>True</td>\n",
              "      <td>1</td>\n",
              "      <td>0</td>\n",
              "      <td>3</td>\n",
              "      <td>True</td>\n",
              "      <td>Caller 2403</td>\n",
              "      <td>Opened by  397</td>\n",
              "      <td>2016-02-29 04:40:00</td>\n",
              "      <td>...</td>\n",
              "      <td>?</td>\n",
              "      <td>?</td>\n",
              "      <td>?</td>\n",
              "      <td>?</td>\n",
              "      <td>code 5</td>\n",
              "      <td>Resolved by 81</td>\n",
              "      <td>2016-01-03 09:52:00</td>\n",
              "      <td>2016-06-03 10:00:00</td>\n",
              "      <td>Not Solved</td>\n",
              "      <td>0</td>\n",
              "    </tr>\n",
              "    <tr>\n",
              "      <th>8</th>\n",
              "      <td>47.0</td>\n",
              "      <td>Active</td>\n",
              "      <td>True</td>\n",
              "      <td>1</td>\n",
              "      <td>0</td>\n",
              "      <td>4</td>\n",
              "      <td>True</td>\n",
              "      <td>Caller 2403</td>\n",
              "      <td>Opened by  397</td>\n",
              "      <td>2016-02-29 04:40:00</td>\n",
              "      <td>...</td>\n",
              "      <td>?</td>\n",
              "      <td>?</td>\n",
              "      <td>?</td>\n",
              "      <td>?</td>\n",
              "      <td>code 5</td>\n",
              "      <td>Resolved by 81</td>\n",
              "      <td>2016-01-03 09:52:00</td>\n",
              "      <td>2016-06-03 10:00:00</td>\n",
              "      <td>Not Solved</td>\n",
              "      <td>0</td>\n",
              "    </tr>\n",
              "    <tr>\n",
              "      <th>9</th>\n",
              "      <td>47.0</td>\n",
              "      <td>Active</td>\n",
              "      <td>True</td>\n",
              "      <td>1</td>\n",
              "      <td>0</td>\n",
              "      <td>5</td>\n",
              "      <td>True</td>\n",
              "      <td>Caller 2403</td>\n",
              "      <td>Opened by  397</td>\n",
              "      <td>2016-02-29 04:40:00</td>\n",
              "      <td>...</td>\n",
              "      <td>?</td>\n",
              "      <td>?</td>\n",
              "      <td>?</td>\n",
              "      <td>?</td>\n",
              "      <td>code 5</td>\n",
              "      <td>Resolved by 81</td>\n",
              "      <td>2016-01-03 09:52:00</td>\n",
              "      <td>2016-06-03 10:00:00</td>\n",
              "      <td>Not Solved</td>\n",
              "      <td>0</td>\n",
              "    </tr>\n",
              "  </tbody>\n",
              "</table>\n",
              "<p>10 rows × 38 columns</p>\n",
              "</div>\n",
              "      <button class=\"colab-df-convert\" onclick=\"convertToInteractive('df-d203b08d-6704-458c-9a31-6cacd2ad8a16')\"\n",
              "              title=\"Convert this dataframe to an interactive table.\"\n",
              "              style=\"display:none;\">\n",
              "\n",
              "  <svg xmlns=\"http://www.w3.org/2000/svg\" height=\"24px\"viewBox=\"0 0 24 24\"\n",
              "       width=\"24px\">\n",
              "    <path d=\"M0 0h24v24H0V0z\" fill=\"none\"/>\n",
              "    <path d=\"M18.56 5.44l.94 2.06.94-2.06 2.06-.94-2.06-.94-.94-2.06-.94 2.06-2.06.94zm-11 1L8.5 8.5l.94-2.06 2.06-.94-2.06-.94L8.5 2.5l-.94 2.06-2.06.94zm10 10l.94 2.06.94-2.06 2.06-.94-2.06-.94-.94-2.06-.94 2.06-2.06.94z\"/><path d=\"M17.41 7.96l-1.37-1.37c-.4-.4-.92-.59-1.43-.59-.52 0-1.04.2-1.43.59L10.3 9.45l-7.72 7.72c-.78.78-.78 2.05 0 2.83L4 21.41c.39.39.9.59 1.41.59.51 0 1.02-.2 1.41-.59l7.78-7.78 2.81-2.81c.8-.78.8-2.07 0-2.86zM5.41 20L4 18.59l7.72-7.72 1.47 1.35L5.41 20z\"/>\n",
              "  </svg>\n",
              "      </button>\n",
              "\n",
              "\n",
              "\n",
              "    <div id=\"df-3fe5d602-9e86-4fa2-a853-07c6ca78f1bc\">\n",
              "      <button class=\"colab-df-quickchart\" onclick=\"quickchart('df-3fe5d602-9e86-4fa2-a853-07c6ca78f1bc')\"\n",
              "              title=\"Suggest charts.\"\n",
              "              style=\"display:none;\">\n",
              "\n",
              "<svg xmlns=\"http://www.w3.org/2000/svg\" height=\"24px\"viewBox=\"0 0 24 24\"\n",
              "     width=\"24px\">\n",
              "    <g>\n",
              "        <path d=\"M19 3H5c-1.1 0-2 .9-2 2v14c0 1.1.9 2 2 2h14c1.1 0 2-.9 2-2V5c0-1.1-.9-2-2-2zM9 17H7v-7h2v7zm4 0h-2V7h2v10zm4 0h-2v-4h2v4z\"/>\n",
              "    </g>\n",
              "</svg>\n",
              "      </button>\n",
              "    </div>\n",
              "\n",
              "<style>\n",
              "  .colab-df-quickchart {\n",
              "    background-color: #E8F0FE;\n",
              "    border: none;\n",
              "    border-radius: 50%;\n",
              "    cursor: pointer;\n",
              "    display: none;\n",
              "    fill: #1967D2;\n",
              "    height: 32px;\n",
              "    padding: 0 0 0 0;\n",
              "    width: 32px;\n",
              "  }\n",
              "\n",
              "  .colab-df-quickchart:hover {\n",
              "    background-color: #E2EBFA;\n",
              "    box-shadow: 0px 1px 2px rgba(60, 64, 67, 0.3), 0px 1px 3px 1px rgba(60, 64, 67, 0.15);\n",
              "    fill: #174EA6;\n",
              "  }\n",
              "\n",
              "  [theme=dark] .colab-df-quickchart {\n",
              "    background-color: #3B4455;\n",
              "    fill: #D2E3FC;\n",
              "  }\n",
              "\n",
              "  [theme=dark] .colab-df-quickchart:hover {\n",
              "    background-color: #434B5C;\n",
              "    box-shadow: 0px 1px 3px 1px rgba(0, 0, 0, 0.15);\n",
              "    filter: drop-shadow(0px 1px 2px rgba(0, 0, 0, 0.3));\n",
              "    fill: #FFFFFF;\n",
              "  }\n",
              "</style>\n",
              "\n",
              "    <script>\n",
              "      async function quickchart(key) {\n",
              "        const containerElement = document.querySelector('#' + key);\n",
              "        const charts = await google.colab.kernel.invokeFunction(\n",
              "            'suggestCharts', [key], {});\n",
              "      }\n",
              "    </script>\n",
              "\n",
              "      <script>\n",
              "\n",
              "function displayQuickchartButton(domScope) {\n",
              "  let quickchartButtonEl =\n",
              "    domScope.querySelector('#df-3fe5d602-9e86-4fa2-a853-07c6ca78f1bc button.colab-df-quickchart');\n",
              "  quickchartButtonEl.style.display =\n",
              "    google.colab.kernel.accessAllowed ? 'block' : 'none';\n",
              "}\n",
              "\n",
              "        displayQuickchartButton(document);\n",
              "      </script>\n",
              "      <style>\n",
              "    .colab-df-container {\n",
              "      display:flex;\n",
              "      flex-wrap:wrap;\n",
              "      gap: 12px;\n",
              "    }\n",
              "\n",
              "    .colab-df-convert {\n",
              "      background-color: #E8F0FE;\n",
              "      border: none;\n",
              "      border-radius: 50%;\n",
              "      cursor: pointer;\n",
              "      display: none;\n",
              "      fill: #1967D2;\n",
              "      height: 32px;\n",
              "      padding: 0 0 0 0;\n",
              "      width: 32px;\n",
              "    }\n",
              "\n",
              "    .colab-df-convert:hover {\n",
              "      background-color: #E2EBFA;\n",
              "      box-shadow: 0px 1px 2px rgba(60, 64, 67, 0.3), 0px 1px 3px 1px rgba(60, 64, 67, 0.15);\n",
              "      fill: #174EA6;\n",
              "    }\n",
              "\n",
              "    [theme=dark] .colab-df-convert {\n",
              "      background-color: #3B4455;\n",
              "      fill: #D2E3FC;\n",
              "    }\n",
              "\n",
              "    [theme=dark] .colab-df-convert:hover {\n",
              "      background-color: #434B5C;\n",
              "      box-shadow: 0px 1px 3px 1px rgba(0, 0, 0, 0.15);\n",
              "      filter: drop-shadow(0px 1px 2px rgba(0, 0, 0, 0.3));\n",
              "      fill: #FFFFFF;\n",
              "    }\n",
              "  </style>\n",
              "\n",
              "      <script>\n",
              "        const buttonEl =\n",
              "          document.querySelector('#df-d203b08d-6704-458c-9a31-6cacd2ad8a16 button.colab-df-convert');\n",
              "        buttonEl.style.display =\n",
              "          google.colab.kernel.accessAllowed ? 'block' : 'none';\n",
              "\n",
              "        async function convertToInteractive(key) {\n",
              "          const element = document.querySelector('#df-d203b08d-6704-458c-9a31-6cacd2ad8a16');\n",
              "          const dataTable =\n",
              "            await google.colab.kernel.invokeFunction('convertToInteractive',\n",
              "                                                     [key], {});\n",
              "          if (!dataTable) return;\n",
              "\n",
              "          const docLinkHtml = 'Like what you see? Visit the ' +\n",
              "            '<a target=\"_blank\" href=https://colab.research.google.com/notebooks/data_table.ipynb>data table notebook</a>'\n",
              "            + ' to learn more about interactive tables.';\n",
              "          element.innerHTML = '';\n",
              "          dataTable['output_type'] = 'display_data';\n",
              "          await google.colab.output.renderOutput(dataTable, element);\n",
              "          const docLink = document.createElement('div');\n",
              "          docLink.innerHTML = docLinkHtml;\n",
              "          element.appendChild(docLink);\n",
              "        }\n",
              "      </script>\n",
              "    </div>\n",
              "  </div>\n"
            ]
          },
          "metadata": {},
          "execution_count": 159
        }
      ]
    },
    {
      "cell_type": "code",
      "source": [
        "numeric_data = data.select_dtypes(include='number').dropna()\n",
        "\n",
        "# Create the correlation matrix\n",
        "correlation_matrix = numeric_data.corr()\n",
        "\n",
        "print(correlation_matrix)\n"
      ],
      "metadata": {
        "colab": {
          "base_uri": "https://localhost:8080/"
        },
        "id": "74sOH82MwQwN",
        "outputId": "4fb99e67-afc8-4eaf-a4ad-f79fc63f26ea"
      },
      "execution_count": 160,
      "outputs": [
        {
          "output_type": "stream",
          "name": "stdout",
          "text": [
            "                      number  reassignment_count  reopen_count  sys_mod_count  \\\n",
            "number              1.000000           -0.098331     -0.022355      -0.084722   \n",
            "reassignment_count -0.098331            1.000000      0.171593       0.527626   \n",
            "reopen_count       -0.022355            0.171593      1.000000       0.245033   \n",
            "sys_mod_count      -0.084722            0.527626      0.245033       1.000000   \n",
            "days_to_close      -0.012260           -0.003022      0.000278       0.060779   \n",
            "\n",
            "                    days_to_close  \n",
            "number                  -0.012260  \n",
            "reassignment_count      -0.003022  \n",
            "reopen_count             0.000278  \n",
            "sys_mod_count            0.060779  \n",
            "days_to_close            1.000000  \n"
          ]
        }
      ]
    },
    {
      "cell_type": "code",
      "source": [
        "#dropping the columns that are not directly linked with target variable Issue\n",
        "data.drop(['location', 'u_symptom', 'cmdb_ci','caller_id', 'opened_by','sys_created_by','sys_updated_at', 'sys_updated_at','category','subcategory','assignment_group','assigned_to','u_priority_confirmation','problem_id','rfc','vendor','caused_by','sys_created_at','sys_updated_by','resolved_by','opened_at','resolved_at','closed_at'], axis=1, inplace=True)\n"
      ],
      "metadata": {
        "id": "Zegt3qzKhAgS"
      },
      "execution_count": 161,
      "outputs": []
    },
    {
      "cell_type": "code",
      "source": [
        "data.dtypes"
      ],
      "metadata": {
        "colab": {
          "base_uri": "https://localhost:8080/"
        },
        "id": "ZmSm5UPx73B5",
        "outputId": "b5de4c24-11e9-41da-968e-b77f8b4071f8"
      },
      "execution_count": 162,
      "outputs": [
        {
          "output_type": "execute_result",
          "data": {
            "text/plain": [
              "number                 float64\n",
              "incident_state        category\n",
              "active                category\n",
              "reassignment_count       int64\n",
              "reopen_count             int64\n",
              "sys_mod_count            int64\n",
              "made_sla              category\n",
              "contact_type          category\n",
              "impact                category\n",
              "urgency               category\n",
              "priority              category\n",
              "knowledge             category\n",
              "notify                category\n",
              "closed_code           category\n",
              "Issue                 category\n",
              "days_to_close            int64\n",
              "dtype: object"
            ]
          },
          "metadata": {},
          "execution_count": 162
        }
      ]
    },
    {
      "cell_type": "code",
      "source": [
        "import matplotlib.pyplot as plt\n",
        "\n",
        "plt.figure(figsize=(8, 6))\n",
        "data['Issue'].value_counts().plot(kind='pie', autopct='%1.1f%%')\n",
        "plt.title('Distribution of Issue')\n",
        "plt.axis('equal')\n",
        "plt.show()"
      ],
      "metadata": {
        "colab": {
          "base_uri": "https://localhost:8080/",
          "height": 521
        },
        "id": "-yNuKtz7iCDg",
        "outputId": "fe7374a6-b697-4ec5-cf75-941bf1c6d37e"
      },
      "execution_count": 163,
      "outputs": [
        {
          "output_type": "display_data",
          "data": {
            "text/plain": [
              "<Figure size 800x600 with 1 Axes>"
            ],
            "image/png": "[encoded data removed]"
          },
          "metadata": {}
        }
      ]
    },
    {
      "cell_type": "code",
      "source": [
        "import matplotlib.pyplot as plt\n",
        "\n",
        "plt.figure(figsize=(8, 6))\n",
        "data['active'].value_counts().plot(kind='pie', autopct='%1.1f%%')\n",
        "plt.title('Distribution of Issue')\n",
        "plt.axis('equal')\n",
        "plt.show()"
      ],
      "metadata": {
        "colab": {
          "base_uri": "https://localhost:8080/",
          "height": 521
        },
        "id": "vckb2zooiKj8",
        "outputId": "656eb68e-3fa9-4d17-d8c8-41e68ce2832e"
      },
      "execution_count": 164,
      "outputs": [
        {
          "output_type": "display_data",
          "data": {
            "text/plain": [
              "<Figure size 800x600 with 1 Axes>"
            ],
            "image/png": "[encoded data removed]"
          },
          "metadata": {}
        }
      ]
    },
    {
      "cell_type": "code",
      "source": [
        "import matplotlib.pyplot as plt\n",
        "\n",
        "plt.figure(figsize=(8, 6))\n",
        "data['incident_state'].value_counts().plot(kind='pie', autopct='%1.1f%%')\n",
        "plt.title('Distribution of Incident_state')\n",
        "plt.axis('equal')\n",
        "plt.show()"
      ],
      "metadata": {
        "colab": {
          "base_uri": "https://localhost:8080/",
          "height": 521
        },
        "id": "ZA96CiHUiQvU",
        "outputId": "1dd3b5e2-2600-4aef-8a85-c739e8f38792"
      },
      "execution_count": 165,
      "outputs": [
        {
          "output_type": "display_data",
          "data": {
            "text/plain": [
              "<Figure size 800x600 with 1 Axes>"
            ],
            "image/png": "[encoded data removed]"
          },
          "metadata": {}
        }
      ]
    },
    {
      "cell_type": "code",
      "source": [
        "import matplotlib.pyplot as plt\n",
        "\n",
        "plt.figure(figsize=(8, 6))\n",
        "data['priority'].value_counts().plot(kind='pie', autopct='%1.1f%%')\n",
        "plt.title('Distribution of Incident Priority')\n",
        "plt.axis('equal')\n",
        "plt.show()\n"
      ],
      "metadata": {
        "colab": {
          "base_uri": "https://localhost:8080/",
          "height": 521
        },
        "id": "K8WoHRbzzqQk",
        "outputId": "2d523538-d12f-4b65-94a9-9f4d98316c1c"
      },
      "execution_count": 166,
      "outputs": [
        {
          "output_type": "display_data",
          "data": {
            "text/plain": [
              "<Figure size 800x600 with 1 Axes>"
            ],
            "image/png": "[encoded data removed]"
          },
          "metadata": {}
        }
      ]
    },
    {
      "cell_type": "code",
      "source": [
        "import matplotlib.pyplot as plt\n",
        "\n",
        "plt.figure(figsize=(8, 6))\n",
        "data['impact'].value_counts().plot(kind='pie', autopct='%1.1f%%')\n",
        "plt.title('Distribution of Incident Impact')\n",
        "plt.axis('equal')\n",
        "plt.show()\n"
      ],
      "metadata": {
        "id": "5eY4GQrA0LYq",
        "colab": {
          "base_uri": "https://localhost:8080/",
          "height": 521
        },
        "outputId": "d759c9bb-9768-4e75-d413-b6923eb4b83b"
      },
      "execution_count": 167,
      "outputs": [
        {
          "output_type": "display_data",
          "data": {
            "text/plain": [
              "<Figure size 800x600 with 1 Axes>"
            ],
            "image/png": "[encoded data removed]"
          },
          "metadata": {}
        }
      ]
    },
    {
      "cell_type": "code",
      "source": [
        "import matplotlib.pyplot as plt\n",
        "\n",
        "plt.figure(figsize=(8, 6))\n",
        "data['urgency'].value_counts().plot(kind='pie', autopct='%1.1f%%')\n",
        "plt.title('Distribution of Incident Urgency')\n",
        "plt.axis('equal')\n",
        "plt.show()\n"
      ],
      "metadata": {
        "id": "FZtBjkRJ0Mw4",
        "colab": {
          "base_uri": "https://localhost:8080/",
          "height": 521
        },
        "outputId": "609ed946-1c8e-4948-ecd0-4c402129c37b"
      },
      "execution_count": 168,
      "outputs": [
        {
          "output_type": "display_data",
          "data": {
            "text/plain": [
              "<Figure size 800x600 with 1 Axes>"
            ],
            "image/png": "[encoded data removed]"
          },
          "metadata": {}
        }
      ]
    },
    {
      "cell_type": "code",
      "source": [
        "import seaborn as sb\n",
        "plt.figure(figsize=(8, 6))\n",
        "sb.histplot(data['days_to_close'], bins=10)\n",
        "plt.title('Distribution of days_to_close')\n",
        "plt.xlabel('days_to_close')\n",
        "plt.ylabel('Frequency')\n",
        "\n",
        "# Save the plot as an image\n",
        "plt.savefig(\"Histogram of days_to_close.png\")\n",
        "\n",
        "plt.show()\n"
      ],
      "metadata": {
        "colab": {
          "base_uri": "https://localhost:8080/",
          "height": 564
        },
        "id": "csN38HPTCXF0",
        "outputId": "ecd3f29a-af8b-40fa-bc6c-58014fb87b97"
      },
      "execution_count": 169,
      "outputs": [
        {
          "output_type": "display_data",
          "data": {
            "text/plain": [
              "<Figure size 800x600 with 1 Axes>"
            ],
            "image/png": "[encoded data removed]"
          },
          "metadata": {}
        }
      ]
    },
    {
      "cell_type": "code",
      "source": [
        "data.dtypes"
      ],
      "metadata": {
        "colab": {
          "base_uri": "https://localhost:8080/"
        },
        "id": "7fuDWrDuKajq",
        "outputId": "f6987b5c-893e-4fe0-f406-3f2fa7c94eb6"
      },
      "execution_count": 170,
      "outputs": [
        {
          "output_type": "execute_result",
          "data": {
            "text/plain": [
              "number                 float64\n",
              "incident_state        category\n",
              "active                category\n",
              "reassignment_count       int64\n",
              "reopen_count             int64\n",
              "sys_mod_count            int64\n",
              "made_sla              category\n",
              "contact_type          category\n",
              "impact                category\n",
              "urgency               category\n",
              "priority              category\n",
              "knowledge             category\n",
              "notify                category\n",
              "closed_code           category\n",
              "Issue                 category\n",
              "days_to_close            int64\n",
              "dtype: object"
            ]
          },
          "metadata": {},
          "execution_count": 170
        }
      ]
    },
    {
      "cell_type": "code",
      "source": [
        "#graph with Issue\n",
        "class_distribution = data['Issue'].value_counts()\n",
        "# Plot the class distribution as a bar chart\n",
        "plt.figure(figsize=(8, 6))\n",
        "plt.bar(class_distribution.index, class_distribution.values)\n",
        "plt.xlabel('Class Labels')\n",
        "plt.ylabel('Number of Samples')\n",
        "plt.title('Class Distribution of Target Variable')\n",
        "plt.show()\n",
        "\n",
        "# Check the percentage of samples for each class\n",
        "class_percentages = class_distribution / len(data) * 100\n",
        "print(class_percentages)"
      ],
      "metadata": {
        "colab": {
          "base_uri": "https://localhost:8080/",
          "height": 616
        },
        "id": "bSKubEjHfVdw",
        "outputId": "e4f1d386-10af-43d0-9be9-c2c2b3223f0d"
      },
      "execution_count": 171,
      "outputs": [
        {
          "output_type": "display_data",
          "data": {
            "text/plain": [
              "<Figure size 800x600 with 1 Axes>"
            ],
            "image/png": "[encoded data removed]"
          },
          "metadata": {}
        },
        {
          "output_type": "stream",
          "name": "stdout",
          "text": [
            "Not Solved    64.728579\n",
            "Solved        35.271421\n",
            "Name: Issue, dtype: float64\n"
          ]
        }
      ]
    },
    {
      "cell_type": "code",
      "source": [
        "data.dtypes"
      ],
      "metadata": {
        "colab": {
          "base_uri": "https://localhost:8080/"
        },
        "id": "20HAtIG2ugcq",
        "outputId": "a69e4fdf-4fb5-4d2f-861a-ba2600b8d186"
      },
      "execution_count": 172,
      "outputs": [
        {
          "output_type": "execute_result",
          "data": {
            "text/plain": [
              "number                 float64\n",
              "incident_state        category\n",
              "active                category\n",
              "reassignment_count       int64\n",
              "reopen_count             int64\n",
              "sys_mod_count            int64\n",
              "made_sla              category\n",
              "contact_type          category\n",
              "impact                category\n",
              "urgency               category\n",
              "priority              category\n",
              "knowledge             category\n",
              "notify                category\n",
              "closed_code           category\n",
              "Issue                 category\n",
              "days_to_close            int64\n",
              "dtype: object"
            ]
          },
          "metadata": {},
          "execution_count": 172
        }
      ]
    },
    {
      "cell_type": "code",
      "source": [],
      "metadata": {
        "id": "9OBwTH2-sjCY"
      },
      "execution_count": 172,
      "outputs": []
    },
    {
      "cell_type": "markdown",
      "source": [
        "#Converting the categorical data to numerical  using Label Encoding to perform further process.\n",
        "data[\"incident_state\"].cat.categories\n",
        "enumerate(data[\"incident_state\"].cat.categories,1)\n",
        "dict(enumerate(data[\"incident_state\"].cat.categories,1))\n",
        "data[\"incident_state\"]=data[\"incident_state\"].cat.codes\n",
        "\n",
        "data[\"notify\"].cat.categories\n",
        "enumerate(data[\"notify\"].cat.categories,1)\n",
        "dict(enumerate(data[\"notify\"].cat.categories,1))\n",
        "data[\"notify\"]=data[\"notify\"].cat.codes\n",
        "\n",
        "data[\"made_sla\"].cat.categories\n",
        "enumerate(data[\"made_sla\"].cat.categories,1)\n",
        "dict(enumerate(data[\"made_sla\"].cat.categories,1))\n",
        "data[\"made_sla\"]=data[\"made_sla\"].cat.codes\n",
        "\n",
        "data[\"impact\"].cat.categories\n",
        "enumerate(data[\"impact\"].cat.categories,1)\n",
        "dict(enumerate(data[\"impact\"].cat.categories,1))\n",
        "data[\"impact\"]=data[\"impact\"].cat.codes\n",
        "\n",
        "data[\"active\"].cat.categories\n",
        "enumerate(data[\"active\"].cat.categories,1)\n",
        "dict(enumerate(data[\"active\"].cat.categories,1))\n",
        "data[\"active\"]=data[\"active\"].cat.codes\n",
        "\n",
        "data[\"contact_type\"].cat.categories\n",
        "enumerate(data[\"contact_type\"].cat.categories,1)\n",
        "dict(enumerate(data[\"contact_type\"].cat.categories,1))\n",
        "data[\"contact_type\"]=data[\"contact_type\"].cat.codes\n",
        "\n",
        "data[\"urgency\"].cat.categories\n",
        "enumerate(data[\"urgency\"].cat.categories,1)\n",
        "dict(enumerate(data[\"urgency\"].cat.categories,1))\n",
        "data[\"urgency\"]=data[\"urgency\"].cat.codes\n",
        "\n",
        "data[\"priority\"].cat.categories\n",
        "enumerate(data[\"priority\"].cat.categories,1)\n",
        "dict(enumerate(data[\"priority\"].cat.categories,1))\n",
        "data[\"priority\"]=data[\"priority\"].cat.codes\n",
        "\n",
        "data[\"knowledge\"].cat.categories\n",
        "enumerate(data[\"knowledge\"].cat.categories,1)\n",
        "dict(enumerate(data[\"knowledge\"].cat.categories,1))\n",
        "data[\"knowledge\"]=data[\"knowledge\"].cat.codes\n",
        "\n",
        "data[\"closed_code\"].cat.categories\n",
        "enumerate(data[\"closed_code\"].cat.categories,1)\n",
        "dict(enumerate(data[\"closed_code\"].cat.categories,1))\n",
        "data[\"closed_code\"]=data[\"closed_code\"].cat.codes\n",
        "\n",
        "data[\"Issue\"].cat.categories\n",
        "enumerate(data[\"Issue\"].cat.categories,1)\n",
        "dict(enumerate(data[\"Issue\"].cat.categories,1))\n",
        "data[\"Issue\"]=data[\"Issue\"].cat.codes\n",
        "\n"
      ],
      "metadata": {
        "id": "cf9ZjOJCoaIZ"
      }
    },
    {
      "cell_type": "code",
      "source": [
        "input_data = data.drop('Issue', axis=1)\n",
        "output_data =data['Issue']"
      ],
      "metadata": {
        "id": "KGE8J6VrmThV"
      },
      "execution_count": 173,
      "outputs": []
    },
    {
      "cell_type": "code",
      "source": [],
      "metadata": {
        "id": "xPROTA7f6C1t"
      },
      "execution_count": 173,
      "outputs": []
    },
    {
      "cell_type": "code",
      "source": [
        "#HOTENCODING METHOD\n",
        "input_data=pd.get_dummies(input_data)"
      ],
      "metadata": {
        "id": "9M69omrXpLZF"
      },
      "execution_count": 174,
      "outputs": []
    },
    {
      "cell_type": "code",
      "source": [
        "data[\"Issue\"].cat.categories\n",
        "enumerate(data[\"Issue\"].cat.categories,1)\n",
        "dict(enumerate(data[\"Issue\"].cat.categories,1))\n",
        "data[\"Issue\"]=data[\"Issue\"].cat.codes"
      ],
      "metadata": {
        "id": "_9-lMGIrG2io"
      },
      "execution_count": 175,
      "outputs": []
    },
    {
      "cell_type": "code",
      "source": [
        "#Normalizing the dataset using the MinMax Scaler\n",
        "from sklearn.preprocessing import MinMaxScaler\n",
        "scaler = MinMaxScaler()\n",
        "scaler_dfx = pd.DataFrame(scaler.fit_transform(input_data), columns=input_data.columns)\n",
        "print(scaler_dfx.head(4))"
      ],
      "metadata": {
        "colab": {
          "base_uri": "https://localhost:8080/"
        },
        "id": "GvbS7QV2tiz7",
        "outputId": "59d94989-23eb-4878-978d-ba2659f905e6"
      },
      "execution_count": 176,
      "outputs": [
        {
          "output_type": "stream",
          "name": "stdout",
          "text": [
            "   number  reassignment_count  reopen_count  sys_mod_count  days_to_close  \\\n",
            "0     0.0                 0.0           0.0       0.000000       0.357143   \n",
            "1     0.0                 0.0           0.0       0.015504       0.425373   \n",
            "2     0.0                 0.0           0.0       0.023256       0.425373   \n",
            "3     0.0                 0.0           0.0       0.031008       0.425373   \n",
            "\n",
            "   incident_state_-100  incident_state_Active  \\\n",
            "0                  0.0                    0.0   \n",
            "1                  0.0                    0.0   \n",
            "2                  0.0                    0.0   \n",
            "3                  0.0                    0.0   \n",
            "\n",
            "   incident_state_Awaiting Evidence  incident_state_Awaiting Problem  \\\n",
            "0                               0.0                              0.0   \n",
            "1                               0.0                              0.0   \n",
            "2                               0.0                              0.0   \n",
            "3                               0.0                              0.0   \n",
            "\n",
            "   incident_state_Awaiting User Info  ...  closed_code_code 16  \\\n",
            "0                                0.0  ...                  0.0   \n",
            "1                                0.0  ...                  0.0   \n",
            "2                                0.0  ...                  0.0   \n",
            "3                                0.0  ...                  0.0   \n",
            "\n",
            "   closed_code_code 17  closed_code_code 2  closed_code_code 3  \\\n",
            "0                  0.0                 0.0                 0.0   \n",
            "1                  0.0                 0.0                 0.0   \n",
            "2                  0.0                 0.0                 0.0   \n",
            "3                  0.0                 0.0                 0.0   \n",
            "\n",
            "   closed_code_code 4  closed_code_code 5  closed_code_code 6  \\\n",
            "0                 0.0                 1.0                 0.0   \n",
            "1                 0.0                 1.0                 0.0   \n",
            "2                 0.0                 1.0                 0.0   \n",
            "3                 0.0                 1.0                 0.0   \n",
            "\n",
            "   closed_code_code 7  closed_code_code 8  closed_code_code 9  \n",
            "0                 0.0                 0.0                 0.0  \n",
            "1                 0.0                 0.0                 0.0  \n",
            "2                 0.0                 0.0                 0.0  \n",
            "3                 0.0                 0.0                 0.0  \n",
            "\n",
            "[4 rows x 51 columns]\n"
          ]
        }
      ]
    },
    {
      "cell_type": "code",
      "source": [
        "# Perform PCA\n",
        "from sklearn.decomposition import PCA\n",
        "pca = PCA(n_components=0.95)  # Retain 95% of the variance\n",
        "pca_data = pca.fit_transform(scaler_dfx)"
      ],
      "metadata": {
        "id": "b9xptb1J6Muq"
      },
      "execution_count": 177,
      "outputs": []
    },
    {
      "cell_type": "code",
      "source": [
        "#Test Train Split\n",
        "from sklearn.model_selection import train_test_split\n",
        "input_train,input_test,output_train,output_test = train_test_split(pca_data,output_data,test_size=0.2,random_state= 1)\n",
        "output_train.unique()\n",
        "output_train.value_counts()"
      ],
      "metadata": {
        "id": "Hqis9P9DvNmO",
        "colab": {
          "base_uri": "https://localhost:8080/"
        },
        "outputId": "604d6c6f-b8ea-44ce-9238-7d787208410a"
      },
      "execution_count": 178,
      "outputs": [
        {
          "output_type": "execute_result",
          "data": {
            "text/plain": [
              "Not Solved    62036\n",
              "Solved        33962\n",
              "Name: Issue, dtype: int64"
            ]
          },
          "metadata": {},
          "execution_count": 178
        }
      ]
    },
    {
      "cell_type": "code",
      "source": [
        "#SMOTE: SYNTHATIC MINORITY OERSAMPLING TECHNIQUE\n",
        "from imblearn.over_sampling import SMOTE\n",
        "OverSamplingSmote = SMOTE( sampling_strategy= \"minority\",random_state=2)\n",
        "input_train_over,output_train_over =  OverSamplingSmote.fit_resample(input_train,output_train)\n",
        "output_train_over.value_counts()"
      ],
      "metadata": {
        "colab": {
          "base_uri": "https://localhost:8080/"
        },
        "id": "05XdttVz1yYC",
        "outputId": "8ddf7954-a749-412f-cc77-d92c7c2055e6"
      },
      "execution_count": 179,
      "outputs": [
        {
          "output_type": "execute_result",
          "data": {
            "text/plain": [
              "Not Solved    62036\n",
              "Solved        62036\n",
              "Name: Issue, dtype: int64"
            ]
          },
          "metadata": {},
          "execution_count": 179
        }
      ]
    },
    {
      "cell_type": "code",
      "source": [
        "#apply Knn\n",
        "from sklearn.neighbors import KNeighborsClassifier\n",
        "knn= KNeighborsClassifier()\n",
        "knn=knn.fit(input_train_over,output_train_over)\n",
        "knn\n",
        "pred_test = knn.predict(input_test)\n",
        "pred_test\n",
        "output_test"
      ],
      "metadata": {
        "colab": {
          "base_uri": "https://localhost:8080/"
        },
        "id": "cl7mBlAN2lp9",
        "outputId": "69c69e64-2f16-49fa-ae39-e6b016048298"
      },
      "execution_count": 180,
      "outputs": [
        {
          "output_type": "execute_result",
          "data": {
            "text/plain": [
              "53201         Solved\n",
              "55374         Solved\n",
              "47257         Solved\n",
              "28373     Not Solved\n",
              "23384         Solved\n",
              "             ...    \n",
              "9758      Not Solved\n",
              "30479         Solved\n",
              "31254         Solved\n",
              "106285    Not Solved\n",
              "17472         Solved\n",
              "Name: Issue, Length: 24000, dtype: category\n",
              "Categories (2, object): ['Not Solved', 'Solved']"
            ]
          },
          "metadata": {},
          "execution_count": 180
        }
      ]
    },
    {
      "cell_type": "code",
      "source": [
        "#accuracy check\n",
        "from sklearn.metrics import accuracy_score\n",
        "accurecy_score_knn = round(accuracy_score(output_test,pred_test)*100,0)\n",
        "accurecy_score_knn"
      ],
      "metadata": {
        "colab": {
          "base_uri": "https://localhost:8080/"
        },
        "id": "aBGCiRW42zar",
        "outputId": "cce21270-553e-419e-f7d4-d31b1a01d02f"
      },
      "execution_count": 181,
      "outputs": [
        {
          "output_type": "execute_result",
          "data": {
            "text/plain": [
              "100.0"
            ]
          },
          "metadata": {},
          "execution_count": 181
        }
      ]
    },
    {
      "cell_type": "markdown",
      "source": [
        "Confusion Matrix:\n",
        "\n",
        "\n",
        "\n"
      ],
      "metadata": {
        "id": "HzLDbFQdzVzr"
      }
    },
    {
      "cell_type": "code",
      "source": [
        "import seaborn as sns\n",
        "import matplotlib.pyplot as plt\n",
        "from sklearn.metrics import confusion_matrix\n",
        "\n",
        "# Assuming you have 'output_test' and 'pred_test' defined\n",
        "\n",
        "# Calculate the confusion matrix\n",
        "cm_knn = confusion_matrix(output_test, pred_test)\n",
        "\n",
        "# Calculate the percentages of the confusion matrix\n",
        "total_samples = cm_knn.sum()\n",
        "cm_knn_percent = (cm_knn / total_samples) * 100\n",
        "\n",
        "# Print the confusion matrix\n",
        "print(\"Confusion Matrix:\")\n",
        "print(cm_knn_percent)\n",
        "\n",
        "# Create a heatmap using seaborn\n",
        "plt.figure(figsize=(8, 6))\n",
        "sns.heatmap(cm_knn_percent, annot=True, cmap='Blues', fmt='.2f', annot_kws={\"size\": 14})\n",
        "plt.xlabel('Predicted Labels')\n",
        "plt.ylabel('True Labels')\n",
        "plt.title('Confusion Matrix Heatmap (%)')\n",
        "plt.show()\n"
      ],
      "metadata": {
        "id": "4Ix22Xj-27uL",
        "colab": {
          "base_uri": "https://localhost:8080/",
          "height": 616
        },
        "outputId": "f0e8321f-c797-43a3-d688-5fccb019cf2e"
      },
      "execution_count": 182,
      "outputs": [
        {
          "output_type": "stream",
          "name": "stdout",
          "text": [
            "Confusion Matrix:\n",
            "[[65.15416667  0.        ]\n",
            " [ 0.         34.84583333]]\n"
          ]
        },
        {
          "output_type": "display_data",
          "data": {
            "text/plain": [
              "<Figure size 800x600 with 2 Axes>"
            ],
            "image/png": "[encoded data removed]"
          },
          "metadata": {}
        }
      ]
    },
    {
      "cell_type": "code",
      "source": [
        "from sklearn.linear_model import LogisticRegression\n",
        "from sklearn.metrics import accuracy_score, confusion_matrix\n",
        "\n",
        "# Assuming you have 'input_train_over', 'output_train_over', 'input_test', and 'output_test' defined\n",
        "\n",
        "# Create and train the Logistic Regression model\n",
        "logistic_reg = LogisticRegression()\n",
        "logistic_reg.fit(input_train_over, output_train_over)\n",
        "\n",
        "# Make predictions on the test data\n",
        "pred_test = logistic_reg.predict(input_test)\n",
        "\n",
        "# Print the predicted values\n",
        "print(\"Predicted values:\")\n",
        "print(pred_test)\n",
        "\n",
        "# Print the actual output values from the test data\n",
        "print(\"Actual output values:\")\n",
        "print(output_test)\n",
        "\n",
        "\n"
      ],
      "metadata": {
        "id": "q7cKG4yRzPjW",
        "colab": {
          "base_uri": "https://localhost:8080/"
        },
        "outputId": "2f2e5272-71ea-44ef-98ff-8d3a24e9171a"
      },
      "execution_count": 183,
      "outputs": [
        {
          "output_type": "stream",
          "name": "stdout",
          "text": [
            "Predicted values:\n",
            "['Solved' 'Solved' 'Solved' ... 'Solved' 'Not Solved' 'Solved']\n",
            "Actual output values:\n",
            "53201         Solved\n",
            "55374         Solved\n",
            "47257         Solved\n",
            "28373     Not Solved\n",
            "23384         Solved\n",
            "             ...    \n",
            "9758      Not Solved\n",
            "30479         Solved\n",
            "31254         Solved\n",
            "106285    Not Solved\n",
            "17472         Solved\n",
            "Name: Issue, Length: 24000, dtype: category\n",
            "Categories (2, object): ['Not Solved', 'Solved']\n"
          ]
        }
      ]
    },
    {
      "cell_type": "code",
      "source": [
        "# Calculate accuracy\n",
        "accuracy = accuracy_score(output_test, pred_test)\n",
        "accuracy_percentage = accuracy * 100\n",
        "\n",
        "# Print accuracy in percentage\n",
        "print(\"Accuracy: {:.2f}%\".format(accuracy_percentage))"
      ],
      "metadata": {
        "colab": {
          "base_uri": "https://localhost:8080/"
        },
        "id": "ep8TU5mmJzbn",
        "outputId": "68f26106-0f23-4d5c-9d48-6377e261cf6f"
      },
      "execution_count": 184,
      "outputs": [
        {
          "output_type": "stream",
          "name": "stdout",
          "text": [
            "Accuracy: 100.00%\n"
          ]
        }
      ]
    },
    {
      "cell_type": "code",
      "source": [
        "import seaborn as sns\n",
        "import matplotlib.pyplot as plt\n",
        "from sklearn.metrics import confusion_matrix\n",
        "\n",
        "# Assuming you have 'output_test' and 'pred_test' defined\n",
        "\n",
        "# Calculate the confusion matrix\n",
        "cm = confusion_matrix(output_test, pred_test)\n",
        "\n",
        "# Calculate the percentages of the confusion matrix\n",
        "total_samples = cm.sum()\n",
        "cm_percent = (cm / total_samples) * 100\n",
        "\n",
        "# Print the confusion matrix in percentage\n",
        "print(\"Confusion Matrix (%):\")\n",
        "print(cm_percent)\n",
        "\n",
        "# Create a heatmap using seaborn with the custom formatting function\n",
        "plt.figure(figsize=(8, 6))\n",
        "sns.heatmap(cm_percent, annot=True, cmap='Blues', fmt='.1f', annot_kws={\"size\": 14}, cbar_kws={'format': '%.1f%%'})\n",
        "plt.xlabel('Predicted Labels')\n",
        "plt.ylabel('True Labels')\n",
        "plt.title('Confusion Matrix Heatmap (%)')\n",
        "plt.show()\n"
      ],
      "metadata": {
        "colab": {
          "base_uri": "https://localhost:8080/",
          "height": 616
        },
        "id": "xSYcnBl6KBA9",
        "outputId": "9f0e6d47-55a5-4647-e940-f2151f1a979b"
      },
      "execution_count": 185,
      "outputs": [
        {
          "output_type": "stream",
          "name": "stdout",
          "text": [
            "Confusion Matrix (%):\n",
            "[[65.15416667  0.        ]\n",
            " [ 0.         34.84583333]]\n"
          ]
        },
        {
          "output_type": "display_data",
          "data": {
            "text/plain": [
              "<Figure size 800x600 with 2 Axes>"
            ],
            "image/png": "[encoded data removed]"
          },
          "metadata": {}
        }
      ]
    },
    {
      "cell_type": "code",
      "source": [
        "import seaborn as sns\n",
        "import matplotlib.pyplot as plt\n",
        "from sklearn.ensemble import RandomForestClassifier\n",
        "from sklearn.metrics import accuracy_score, confusion_matrix\n",
        "\n",
        "# Assuming you have 'input_train_over', 'output_train_over', 'input_test', and 'output_test' defined\n",
        "\n",
        "# Create and train the Random Forest model\n",
        "random_forest = RandomForestClassifier()\n",
        "random_forest.fit(input_train_over, output_train_over)\n",
        "\n",
        "# Make predictions on the test data\n",
        "pred_test = random_forest.predict(input_test)\n",
        "\n",
        "# Print the predicted values\n",
        "print(\"Predicted values:\")\n",
        "print(pred_test)\n",
        "\n",
        "# Print the actual output values from the test data\n",
        "print(\"Actual output values:\")\n",
        "print(output_test)\n",
        "\n",
        "# Calculate accuracy\n",
        "accuracy = accuracy_score(output_test, pred_test)\n",
        "accuracy_percentage = accuracy * 100\n",
        "print(\"Accuracy: {:.2f}%\".format(accuracy_percentage))\n",
        "\n",
        "# Calculate confusion matrix\n",
        "cm = confusion_matrix(output_test, pred_test)\n",
        "\n",
        "# Calculate the percentages of the confusion matrix\n",
        "total_samples = cm.sum()\n",
        "cm_percent = (cm / total_samples) * 100\n",
        "\n",
        "# Print the confusion matrix in percentage\n",
        "print(\"Confusion Matrix (%):\")\n",
        "print(cm_percent)\n",
        "\n",
        "# Create a heatmap using seaborn with the custom formatting function\n",
        "plt.figure(figsize=(8, 6))\n",
        "sns.heatmap(cm_percent, annot=True, cmap='Blues', fmt='.1f', annot_kws={\"size\": 14}, cbar_kws={'format': '%.1f%%'})\n",
        "plt.xlabel('Predicted Labels')\n",
        "plt.ylabel('True Labels')\n",
        "plt.title('Confusion Matrix Heatmap (%)')\n",
        "plt.show()\n"
      ],
      "metadata": {
        "colab": {
          "base_uri": "https://localhost:8080/",
          "height": 911
        },
        "id": "V_bAKGYgKBIk",
        "outputId": "9d58f208-8db3-4c53-c561-606bc4493c3d"
      },
      "execution_count": 186,
      "outputs": [
        {
          "output_type": "stream",
          "name": "stdout",
          "text": [
            "Predicted values:\n",
            "['Solved' 'Solved' 'Solved' ... 'Solved' 'Not Solved' 'Solved']\n",
            "Actual output values:\n",
            "53201         Solved\n",
            "55374         Solved\n",
            "47257         Solved\n",
            "28373     Not Solved\n",
            "23384         Solved\n",
            "             ...    \n",
            "9758      Not Solved\n",
            "30479         Solved\n",
            "31254         Solved\n",
            "106285    Not Solved\n",
            "17472         Solved\n",
            "Name: Issue, Length: 24000, dtype: category\n",
            "Categories (2, object): ['Not Solved', 'Solved']\n",
            "Accuracy: 100.00%\n",
            "Confusion Matrix (%):\n",
            "[[65.15416667  0.        ]\n",
            " [ 0.         34.84583333]]\n"
          ]
        },
        {
          "output_type": "display_data",
          "data": {
            "text/plain": [
              "<Figure size 800x600 with 2 Axes>"
            ],
            "image/png": "[encoded data removed]"
          },
          "metadata": {}
        }
      ]
    },
    {
      "cell_type": "code",
      "source": [],
      "metadata": {
        "id": "piHls53YKBKu"
      },
      "execution_count": 186,
      "outputs": []
    },
    {
      "cell_type": "code",
      "source": [],
      "metadata": {
        "id": "nBOEi9a4KBMw"
      },
      "execution_count": 186,
      "outputs": []
    },
    {
      "cell_type": "code",
      "source": [],
      "metadata": {
        "id": "XtjPV8q6KBQJ"
      },
      "execution_count": null,
      "outputs": []
    },
    {
      "cell_type": "code",
      "source": [],
      "metadata": {
        "id": "pF9vjAc76LEC"
      },
      "execution_count": null,
      "outputs": []
    },
    {
      "cell_type": "code",
      "source": [],
      "metadata": {
        "id": "Rph5Y_Vd9_Yd"
      },
      "execution_count": null,
      "outputs": []
    }
  ]
}